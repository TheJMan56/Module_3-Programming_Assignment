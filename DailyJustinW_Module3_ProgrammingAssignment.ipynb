{
 "cells": [
  {
   "cell_type": "code",
   "execution_count": null,
   "id": "a7248f4a",
   "metadata": {},
   "outputs": [],
   "source": [
    "#7.4\n",
    "things = [\"mozzarella\", \"cinderella\", \"salmonella\"]"
   ]
  },
  {
   "cell_type": "code",
   "execution_count": null,
   "id": "015889e8",
   "metadata": {},
   "outputs": [],
   "source": [
    "#7.5\n",
    "things[1].capitalize()\n",
    "print(things)\n",
    "things[1] = things[1].capitalize()\n",
    "print(things)"
   ]
  },
  {
   "cell_type": "markdown",
   "id": "1fd7ff30",
   "metadata": {},
   "source": [
    "While lists are mutable, just capitalizing an item in a list does not alter the list.  It seems as though Python created a copy of the value of the selected item that is contained in the list and altered the value of the copy.  \n",
    "To actually alter the list, I have to set the item in the list to be equal to the altered list value."
   ]
  },
  {
   "cell_type": "code",
   "execution_count": null,
   "id": "5dd0c6ec",
   "metadata": {},
   "outputs": [],
   "source": [
    "#7.6\n",
    "things[0].upper()\n",
    "print(things)\n",
    "things[0] = things[0].upper()\n",
    "print(things)"
   ]
  },
  {
   "cell_type": "code",
   "execution_count": null,
   "id": "a90a2369",
   "metadata": {},
   "outputs": [],
   "source": [
    "#7.7\n",
    "del things[2]\n",
    "print(things)"
   ]
  },
  {
   "cell_type": "code",
   "execution_count": null,
   "id": "45a2d1df",
   "metadata": {},
   "outputs": [],
   "source": [
    "#9.1\n",
    "def good():\n",
    "    return ['Harry', 'Ron', 'Hermione']"
   ]
  },
  {
   "cell_type": "code",
   "execution_count": null,
   "id": "6a50854a",
   "metadata": {},
   "outputs": [],
   "source": [
    "print(good())"
   ]
  },
  {
   "cell_type": "code",
   "execution_count": null,
   "id": "5c01080c",
   "metadata": {},
   "outputs": [],
   "source": [
    "#9.2\n",
    "def get_odds():\n",
    "    for number in range(10):\n",
    "        if number % 2 != 0:\n",
    "            yield number"
   ]
  },
  {
   "cell_type": "code",
   "execution_count": null,
   "id": "9bc273ba",
   "metadata": {},
   "outputs": [],
   "source": [
    "index = 1\n",
    "for number in get_odds():\n",
    "    if index == 3:\n",
    "        print(number)\n",
    "        break\n",
    "    index += 1"
   ]
  },
  {
   "cell_type": "markdown",
   "id": "797b8c0b",
   "metadata": {},
   "source": [
    "The third odd number in range(10) is 5.  Even though range(10) produces the numbers 0 through 9, 0 does not qualify as an odd number according to odd number test in the get_odds function.  When 0 is divided by 2, it produces a remainder of 0.  When 0 is divided by anything, it produces a remainder of 0."
   ]
  },
  {
   "cell_type": "code",
   "execution_count": null,
   "id": "4904fa41",
   "metadata": {},
   "outputs": [],
   "source": []
  }
 ],
 "metadata": {
  "kernelspec": {
   "display_name": "Python 3 (ipykernel)",
   "language": "python",
   "name": "python3"
  },
  "language_info": {
   "codemirror_mode": {
    "name": "ipython",
    "version": 3
   },
   "file_extension": ".py",
   "mimetype": "text/x-python",
   "name": "python",
   "nbconvert_exporter": "python",
   "pygments_lexer": "ipython3",
   "version": "3.9.13"
  }
 },
 "nbformat": 4,
 "nbformat_minor": 5
}
